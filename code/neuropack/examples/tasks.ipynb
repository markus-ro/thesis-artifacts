{
 "cells": [
  {
   "attachments": {},
   "cell_type": "markdown",
   "metadata": {},
   "source": [
    "# Demo for all Acquistion Tasks contained within NeuroPack"
   ]
  },
  {
   "attachments": {},
   "cell_type": "markdown",
   "metadata": {},
   "source": [
    "This notebook contains demos for all acquisition tasks contained within NeuroPack. Each task is presented in both a probailistic and non-probabilisitic version. Further, each task is run for ten seconds."
   ]
  },
  {
   "cell_type": "code",
   "execution_count": 1,
   "metadata": {},
   "outputs": [],
   "source": [
    "# Initial Imports\n",
    "import sys\n",
    "from os import listdir\n",
    "from os.path import join\n",
    "from time import time\n",
    "sys.path.append(\"../\")\n",
    "\n",
    "BASE_DATA_DIR = \"data\"\n",
    "\n",
    "def run_task(task, t):\n",
    "    \"\"\"Run task for t seconds.\n",
    "\n",
    "    :param task: Task to run.\n",
    "    :type task: BaseTask\n",
    "    :param t: Time to run task.\n",
    "    :type t: float\n",
    "    \"\"\"\n",
    "    task.start()\n",
    "    start = time()\n",
    "    \n",
    "    # Run task for t seconds\n",
    "    while time() - start < t:\n",
    "        if task.has_data():\n",
    "            print(task.fetch_data())\n",
    "        \n",
    "        if not task.is_alive():\n",
    "            print(\"Tasked has stopped working\")\n",
    "            break\n",
    "\n",
    "    task.stop()"
   ]
  },
  {
   "attachments": {},
   "cell_type": "markdown",
   "metadata": {},
   "source": [
    "# Audio Tasks"
   ]
  },
  {
   "cell_type": "code",
   "execution_count": 2,
   "metadata": {},
   "outputs": [],
   "source": [
    "# Setup\n",
    "from neuropack.tasks import AudioTask, ProbabilisticAudioTask, PersistentAudioTask, PersistentProbabilisticAudioTask\n",
    "\n",
    "target_sound = join(BASE_DATA_DIR, \"sound_data\", \"target.wav\")\n",
    "nontarget_sound = join(BASE_DATA_DIR, \"sound_data\", \"non_target.wav\")"
   ]
  },
  {
   "attachments": {},
   "cell_type": "markdown",
   "metadata": {},
   "source": [
    "### Tasks"
   ]
  },
  {
   "cell_type": "code",
   "execution_count": 3,
   "metadata": {},
   "outputs": [
    {
     "name": "stdout",
     "output_type": "stream",
     "text": [
      "StimuliTime(timestamp=1683163188.9189143, is_target=True)\n",
      "StimuliTime(timestamp=1683163190.8430395, is_target=True)\n",
      "StimuliTime(timestamp=1683163192.771688, is_target=True)\n",
      "StimuliTime(timestamp=1683163194.204096, is_target=True)\n",
      "StimuliTime(timestamp=1683163195.6326475, is_target=True)\n"
     ]
    }
   ],
   "source": [
    "# Create a task in which each target sound is interrupted by at least two and at most three non target sounds.\n",
    "task = AudioTask(2, 3, nontarget_sound, target_sound, 300)\n",
    "run_task(task, 10)"
   ]
  },
  {
   "cell_type": "code",
   "execution_count": null,
   "metadata": {},
   "outputs": [],
   "source": [
    "# Probabilistic Audio Task in which a target sound occurs with a probability of .25 and a non target sound occurs with a probability of .75.\n",
    "task = ProbabilisticAudioTask(0.25, nontarget_sound, target_sound, 300)\n",
    "run_task(task, 10)"
   ]
  },
  {
   "cell_type": "code",
   "execution_count": null,
   "metadata": {},
   "outputs": [],
   "source": [
    "task = PersistentAudioTask(2, 3, nontarget_sound, target_sound, 300)\n",
    "run_task(task, 10)\n",
    "\n",
    "task.only_target_data(False)\n",
    "run_task(task, 10)"
   ]
  },
  {
   "cell_type": "code",
   "execution_count": null,
   "metadata": {},
   "outputs": [],
   "source": [
    "task = PersistentProbabilisticAudioTask(0.25, nontarget_sound, target_sound, 300)\n",
    "run_task(task, 10)\n",
    "\n",
    "task.only_target_data(False)\n",
    "run_task(task, 10)"
   ]
  },
  {
   "attachments": {},
   "cell_type": "markdown",
   "metadata": {},
   "source": [
    "# Color Tasks"
   ]
  },
  {
   "cell_type": "code",
   "execution_count": null,
   "metadata": {},
   "outputs": [],
   "source": [
    "# Setup\n",
    "from neuropack.tasks import ColorTask, ProbabilisticColorTask, PersistentColorTask, PersistentProbabilisticColorTask\n",
    "\n",
    "target_color = \"blue\"\n",
    "nontarget_color = \"green\""
   ]
  },
  {
   "attachments": {},
   "cell_type": "markdown",
   "metadata": {},
   "source": [
    "### Tasks"
   ]
  },
  {
   "cell_type": "code",
   "execution_count": null,
   "metadata": {},
   "outputs": [],
   "source": [
    "# Standard color task\n",
    "task = ColorTask(2, 3, nontarget_color, target_color, 300)\n",
    "run_task(task, 10)"
   ]
  },
  {
   "cell_type": "code",
   "execution_count": null,
   "metadata": {},
   "outputs": [],
   "source": [
    "# Probabilistic color task\n",
    "task = ProbabilisticColorTask(0.25, nontarget_color, target_color, 300)\n",
    "run_task(task, 10)"
   ]
  },
  {
   "cell_type": "code",
   "execution_count": null,
   "metadata": {},
   "outputs": [],
   "source": [
    "# Persistent color task can be resued. All other functions are the same.\n",
    "task = PersistentColorTask(2, 3, nontarget_color, target_color, 300)\n",
    "run_task(task, 10)\n",
    "\n",
    "print(\"Only target data false\")\n",
    "task.only_target_data(False)\n",
    "run_task(task, 10)"
   ]
  },
  {
   "cell_type": "code",
   "execution_count": null,
   "metadata": {},
   "outputs": [],
   "source": [
    "# Can also be created using chance\n",
    "task = PersistentProbabilisticColorTask(0.25, nontarget_color, target_color, 300)\n",
    "run_task(task, 10)\n",
    "\n",
    "print(\"Only target data false\")\n",
    "task.only_target_data(False)\n",
    "run_task(task, 10)"
   ]
  },
  {
   "attachments": {},
   "cell_type": "markdown",
   "metadata": {},
   "source": [
    "# Image Tasks"
   ]
  },
  {
   "cell_type": "code",
   "execution_count": null,
   "metadata": {},
   "outputs": [],
   "source": [
    "# Setup\n",
    "from neuropack.tasks import ImageTask, ProbabilisticImageTask, MultiImageTask, ProbabilisticMultiImageTask\n",
    "from neuropack.tasks import PersistentImageTask, PersistentProbabilisticImageTask\n",
    "from neuropack.tasks import PersistentMultiImageTask, PersistentProbabilisticMultiImageTask\n",
    "\n",
    "img_data_dir = join(BASE_DATA_DIR, \"images\", \"random\")\n",
    "\n",
    "# Target images are animal pictures. In this case a dog and a cat.\n",
    "# Invalid files are ignored.\n",
    "# Target images are filtered out.\n",
    "target_images = [join(img_data_dir, \"18.jpg\"), join(img_data_dir, \"19.jpg\")]\n",
    "nontarget_images = [join(img_data_dir, x) for x in listdir(img_data_dir)]"
   ]
  },
  {
   "attachments": {},
   "cell_type": "markdown",
   "metadata": {},
   "source": [
    "### Tasks"
   ]
  },
  {
   "cell_type": "code",
   "execution_count": null,
   "metadata": {},
   "outputs": [],
   "source": [
    "# Single image task. Only stimuli is the cat\n",
    "task = ImageTask(2, 3, 300, nontarget_images, target_images[0])\n",
    "run_task(task, 10)"
   ]
  },
  {
   "cell_type": "code",
   "execution_count": null,
   "metadata": {},
   "outputs": [],
   "source": [
    "# Single image task. Only stimuli is the cat\n",
    "task = ProbabilisticImageTask(0.25, 300, nontarget_images, target_images[0])\n",
    "run_task(task, 10)"
   ]
  },
  {
   "cell_type": "code",
   "execution_count": null,
   "metadata": {},
   "outputs": [],
   "source": [
    "# Persistent single image task\n",
    "task = PersistentImageTask(2, 3, 300, nontarget_images, target_images[0])\n",
    "run_task(task, 10)\n",
    "\n",
    "task.only_target_data(False)\n",
    "run_task(task, 10)"
   ]
  },
  {
   "cell_type": "code",
   "execution_count": null,
   "metadata": {},
   "outputs": [],
   "source": [
    "# Persistent probabilistic single image task\n",
    "task = PersistentProbabilisticImageTask(0.25, 300, nontarget_images, target_images[0])\n",
    "run_task(task, 10)\n",
    "\n",
    "task.only_target_data(False)\n",
    "run_task(task, 10)"
   ]
  },
  {
   "cell_type": "code",
   "execution_count": null,
   "metadata": {},
   "outputs": [],
   "source": [
    "# Multi image task. Stimuli are the cat and the dog\n",
    "task = MultiImageTask(2, 3, 300, nontarget_images, target_images)\n",
    "run_task(task, 10)"
   ]
  },
  {
   "cell_type": "code",
   "execution_count": null,
   "metadata": {},
   "outputs": [],
   "source": [
    "# Multi image task. Stimuli are the cat and the dog\n",
    "task = ProbabilisticMultiImageTask(0.25, 300, nontarget_images, target_images)\n",
    "run_task(task, 10)"
   ]
  },
  {
   "cell_type": "code",
   "execution_count": null,
   "metadata": {},
   "outputs": [],
   "source": [
    "# Persistent multi image task\n",
    "task = PersistentMultiImageTask(2, 3, 300, nontarget_images, target_images)\n",
    "run_task(task, 10)\n",
    "\n",
    "task.only_target_data(False)\n",
    "run_task(task, 10)"
   ]
  },
  {
   "cell_type": "code",
   "execution_count": null,
   "metadata": {},
   "outputs": [],
   "source": [
    "task = PersistentProbabilisticMultiImageTask(0.25, 300, nontarget_images, target_images)\n",
    "run_task(task, 10)\n",
    "\n",
    "task.only_target_data(False)\n",
    "run_task(task, 10)"
   ]
  },
  {
   "attachments": {},
   "cell_type": "markdown",
   "metadata": {},
   "source": [
    "# Symbol Tasks"
   ]
  },
  {
   "cell_type": "code",
   "execution_count": null,
   "metadata": {},
   "outputs": [],
   "source": [
    "# Setup\n",
    "from neuropack.tasks import SymbolTask, ProbabilisticSymbolTask, PersistentSymbolTask, PersistentProbabilisticSymbolTask\n",
    "target_symbol = \"X\"\n",
    "nontarget_symbol = \"O\""
   ]
  },
  {
   "attachments": {},
   "cell_type": "markdown",
   "metadata": {},
   "source": [
    "### Tasks"
   ]
  },
  {
   "cell_type": "code",
   "execution_count": null,
   "metadata": {},
   "outputs": [],
   "source": [
    "task = SymbolTask(2, 3, nontarget_symbol, target_symbol, 300)\n",
    "run_task(task, 10)"
   ]
  },
  {
   "cell_type": "code",
   "execution_count": null,
   "metadata": {},
   "outputs": [],
   "source": [
    "task = ProbabilisticSymbolTask(0.25, nontarget_symbol, target_symbol, 300)\n",
    "run_task(task, 10)"
   ]
  },
  {
   "cell_type": "code",
   "execution_count": null,
   "metadata": {},
   "outputs": [],
   "source": [
    "task = PersistentSymbolTask(2, 3, nontarget_symbol, target_symbol, 300)\n",
    "run_task(task, 10)\n",
    "\n",
    "task.only_target_data(False)\n",
    "run_task(task, 10)"
   ]
  },
  {
   "cell_type": "code",
   "execution_count": null,
   "metadata": {},
   "outputs": [],
   "source": [
    "task = PersistentProbabilisticSymbolTask(0.25, nontarget_symbol, target_symbol, 300)\n",
    "run_task(task, 10)\n",
    "\n",
    "task.only_target_data(False)\n",
    "run_task(task, 10)"
   ]
  },
  {
   "cell_type": "code",
   "execution_count": null,
   "metadata": {},
   "outputs": [],
   "source": []
  }
 ],
 "metadata": {
  "kernelspec": {
   "display_name": "Python 3",
   "language": "python",
   "name": "python3"
  },
  "language_info": {
   "codemirror_mode": {
    "name": "ipython",
    "version": 3
   },
   "file_extension": ".py",
   "mimetype": "text/x-python",
   "name": "python",
   "nbconvert_exporter": "python",
   "pygments_lexer": "ipython3",
   "version": "3.10.6"
  },
  "orig_nbformat": 4
 },
 "nbformat": 4,
 "nbformat_minor": 2
}
